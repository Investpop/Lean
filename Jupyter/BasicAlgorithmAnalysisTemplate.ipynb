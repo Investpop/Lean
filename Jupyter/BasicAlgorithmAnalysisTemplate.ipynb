{
 "cells": [
  {
   "cell_type": "markdown",
   "metadata": {
    "collapsed": true
   },
   "source": [
    "## Algorithm Analysis notebook\n",
    "\n",
    "### Start AlgorithmAnalysis\n",
    "- Add the references and imports\n",
    "- Create a AlgorithmAnalysis instance\n",
    "\n",
    "Find your user id and api access token at https://www.quantconnect.com/account"
   ]
  },
  {
   "cell_type": "code",
   "execution_count": null,
   "metadata": {
    "collapsed": true
   },
   "outputs": [],
   "source": [
    "%matplotlib inline\n",
    "# Imports\n",
    "from clr import AddReference\n",
    "AddReference(\"System\")\n",
    "AddReference(\"QuantConnect.Common\")\n",
    "AddReference(\"QuantConnect.Jupyter\")\n",
    "from QuantConnect import *\n",
    "from QuantConnect.Jupyter import *\n",
    "from datetime import datetime\n",
    "import matplotlib.pyplot as plt\n",
    "\n",
    "user_id = 0\n",
    "api_access_token = \"\"\n",
    "\n",
    "# Create an instance\n",
    "aa = AlgorithmAnalysis(user_id, api_access_token)"
   ]
  },
  {
   "cell_type": "markdown",
   "metadata": {
    "collapsed": true
   },
   "source": [
    "### List projects\n",
    "*It may take a few seconds if you have a lot of projects*"
   ]
  },
  {
   "cell_type": "code",
   "execution_count": null,
   "metadata": {},
   "outputs": [],
   "source": [
    "aa.ListProjects().head(10)   # List the 10 last modified projects"
   ]
  },
  {
   "cell_type": "markdown",
   "metadata": {},
   "source": [
    "### List backtests\n",
    "\n",
    "Lists all backtest from a given project\n",
    "\n",
    "*It may take a few seconds if you have a lot of projects*"
   ]
  },
  {
   "cell_type": "code",
   "execution_count": null,
   "metadata": {
    "scrolled": true
   },
   "outputs": [],
   "source": [
    "aa.ListBacktests(628051)"
   ]
  },
  {
   "cell_type": "markdown",
   "metadata": {},
   "source": [
    "### Read out the orders of a specific backtest"
   ]
  },
  {
   "cell_type": "code",
   "execution_count": null,
   "metadata": {},
   "outputs": [],
   "source": [
    "aa.GetOrders(628051, \"4fdd334f2a04c0197342b6870bcc93d1\")"
   ]
  },
  {
   "cell_type": "markdown",
   "metadata": {},
   "source": [
    "### Read out the P/L of a specific backtest\n",
    "Use DataFrame cumsum method to compute the cumulative returs and plot"
   ]
  },
  {
   "cell_type": "code",
   "execution_count": null,
   "metadata": {},
   "outputs": [],
   "source": [
    "aa.GetProfitLoss(628051, \"f2f9b85264e5edd4c9ea957a314ec573\").cumsum().plot()"
   ]
  }
 ],
 "metadata": {
  "kernelspec": {
   "display_name": "Python 2",
   "language": "python",
   "name": "python2"
  },
  "language_info": {
   "codemirror_mode": {
    "name": "ipython",
    "version": 2
   },
   "file_extension": ".py",
   "mimetype": "text/x-python",
   "name": "python",
   "nbconvert_exporter": "python",
   "pygments_lexer": "ipython2",
   "version": "2.7"
  }
 },
 "nbformat": 4,
 "nbformat_minor": 2
}
